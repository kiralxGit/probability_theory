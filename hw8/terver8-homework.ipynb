{
 "cells": [
  {
   "cell_type": "code",
   "execution_count": 1,
   "id": "dddd6dc9",
   "metadata": {},
   "outputs": [],
   "source": [
    "import numpy as np\n",
    "import matplotlib.pyplot as plt\n",
    "import scipy.stats as stats\n"
   ]
  },
  {
   "cell_type": "markdown",
   "id": "2508c4f1",
   "metadata": {},
   "source": [
    "## Задание 1\n",
    "\n",
    "Даны значения величины заработной платы заемщиков банка (zp) и значения их поведенческого кредитного скоринга (ks):\n",
    "\n",
    "zp = [35, 45, 190, 200, 40, 70, 54, 150, 120, 110],\n",
    "\n",
    "ks = [401, 574, 874, 919, 459, 739, 653, 902, 746, 832].\n",
    "\n",
    "Найдите ковариацию этих двух величин с помощью элементарных действий, а затем с помощью функции cov из numpy\n",
    "\n",
    "Полученные значения должны быть равны.\n",
    "\n",
    "Найдите коэффициент корреляции Пирсона с помощью ковариации и среднеквадратичных отклонений двух признаков, а затем с использованием функций из библиотек numpy и pandas."
   ]
  },
  {
   "cell_type": "code",
   "execution_count": 2,
   "id": "074dc8bc",
   "metadata": {},
   "outputs": [
    {
     "name": "stdout",
     "output_type": "stream",
     "text": [
      "Ковариация через формулу = 9157.84, через функцию = 9157.84\n"
     ]
    }
   ],
   "source": [
    "zp = np.array([35, 45, 190, 200, 40, 70, 54, 150, 120, 110])\n",
    "ks = np.array([401, 574, 874, 919, 459, 739, 653, 902, 746, 832])\n",
    "\n",
    "cov1 = np.mean(zp * ks) - np.mean(zp) * np.mean(ks)\n",
    "\n",
    "cov2 = np.cov(zp, ks, ddof=0)\n",
    "\n",
    "print(f\"Ковариация через формулу = {cov1:.2f}, через функцию = {cov2[0][1]:.2f}\")"
   ]
  },
  {
   "cell_type": "code",
   "execution_count": 3,
   "id": "e42931dc",
   "metadata": {},
   "outputs": [
    {
     "name": "stdout",
     "output_type": "stream",
     "text": [
      "Коэффициент корреляции через формулу = 0.89, через функцию = 0.89\n"
     ]
    }
   ],
   "source": [
    "\n",
    "sigma_zp = np.std(zp, ddof=0)\n",
    "sigma_ks = np.std(ks, ddof=0)\n",
    "\n",
    "cor1 = cov1 / (sigma_zp * sigma_ks)\n",
    "\n",
    "cor2 = np.corrcoef(zp, ks)\n",
    "print(f\"Коэффициент корреляции через формулу = {cor1:.2f}, через функцию = {cor2[0][1]:.2f}\")"
   ]
  },
  {
   "cell_type": "markdown",
   "id": "603a59d5",
   "metadata": {},
   "source": [
    "## Задание 2\n",
    "Измерены значения IQ выборки студентов,\n",
    "обучающихся в местных технических вузах:\n",
    "\n",
    "131, 125, 115, 122, 131, 115, 107, 99, 125, 111.\n",
    "\n",
    "Известно, что в генеральной совокупности IQ распределен нормально.\n",
    "\n",
    "Найдите доверительный интервал для математического ожидания с надежностью 0.95."
   ]
  },
  {
   "cell_type": "code",
   "execution_count": 4,
   "id": "0c21fc1e",
   "metadata": {},
   "outputs": [
    {
     "name": "stdout",
     "output_type": "stream",
     "text": [
      "Доверительный интервал для математического ожидания 118.1 с надежностью 0.95 от 110.56 до 125.64\n"
     ]
    }
   ],
   "source": [
    "arr = np.array([131, 125, 115, 122, 131, 115, 107, 99, 125, 111])\n",
    "\n",
    "σ = np.std(arr, ddof=1)\n",
    "α = 0.05\n",
    "μ = np.mean(arr)\n",
    "n = len(arr)\n",
    "\n",
    "df = n - 1\n",
    "\n",
    "t = stats.t.ppf(1 - α / 2, df)\n",
    "\n",
    "z1 = μ - t * (σ / np.sqrt(n))\n",
    "z2 = μ + t * (σ / np.sqrt(n))\n",
    "\n",
    "print(f\"Доверительный интервал для математического ожидания {μ} с надежностью 0.95 от {z1:.2f} до {z2:.2f}\")"
   ]
  },
  {
   "cell_type": "markdown",
   "id": "ce278d30",
   "metadata": {},
   "source": [
    "## Задание 2\n",
    "Известно, что рост футболистов в сборной распределен нормально с дисперсией генеральной совокупности, равной 25 кв.см.\n",
    "\n",
    "Объем выборки равен 27, среднее выборочное составляет 174.2.\n",
    "\n",
    "Найдите доверительный интервал для математического ожидания с надежностью 0.95."
   ]
  },
  {
   "cell_type": "code",
   "execution_count": 5,
   "id": "0fcdbad6",
   "metadata": {},
   "outputs": [
    {
     "name": "stdout",
     "output_type": "stream",
     "text": [
      "Доверительный интервал для математического ожидания 174.2 с надежностью 0.95 от 172.31 до 176.09\n"
     ]
    }
   ],
   "source": [
    "d = 25\n",
    "σ = np.sqrt(d)\n",
    "α = 0.05\n",
    "μ = 174.2\n",
    "n = 27\n",
    "df = n - 1\n",
    "\n",
    "z = 1.96 # по таблице для 95%\n",
    "\n",
    "z1 = μ - z * (σ / np.sqrt(n))\n",
    "z2 = μ + z * (σ / np.sqrt(n))\n",
    "\n",
    "print(f\"Доверительный интервал для математического ожидания {μ} с надежностью 0.95 от {z1:.2f} до {z2:.2f}\")"
   ]
  }
 ],
 "metadata": {
  "kernelspec": {
   "display_name": "Python 3 (ipykernel)",
   "language": "python",
   "name": "python3"
  },
  "language_info": {
   "codemirror_mode": {
    "name": "ipython",
    "version": 3
   },
   "file_extension": ".py",
   "mimetype": "text/x-python",
   "name": "python",
   "nbconvert_exporter": "python",
   "pygments_lexer": "ipython3",
   "version": "3.11.1"
  }
 },
 "nbformat": 4,
 "nbformat_minor": 5
}
