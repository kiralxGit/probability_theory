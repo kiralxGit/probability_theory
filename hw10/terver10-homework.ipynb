{
 "cells": [
  {
   "cell_type": "code",
   "execution_count": 5,
   "id": "dddd6dc9",
   "metadata": {},
   "outputs": [],
   "source": [
    "import numpy as np\n",
    "import matplotlib.pyplot as plt\n",
    "import scipy.stats as stats\n"
   ]
  },
  {
   "cell_type": "markdown",
   "id": "2508c4f1",
   "metadata": {},
   "source": [
    "## Задание 1\n",
    "\n",
    "Провести дисперсионный анализ для определения того, есть ли различия среднего роста среди взрослых футболистов, хоккеистов и штангистов.\n",
    "\n",
    "Даны значения роста в трех группах случайно выбранных спортсменов:\n",
    "\n",
    "1. Футболисты: 173, 175, 180, 178, 177, 185, 183, 182.\n",
    "\n",
    "1. Хоккеисты: 177, 179, 180, 188, 177, 172, 171, 184, 180.\n",
    "\n",
    "1. Штангисты: 172, 173, 169, 177, 166, 180, 178, 177, 172, 166, 170."
   ]
  },
  {
   "cell_type": "code",
   "execution_count": 60,
   "id": "074dc8bc",
   "metadata": {},
   "outputs": [],
   "source": [
    "gr1 = np.array([173, 175, 180, 178, 177, 185, 183, 182])\n",
    "gr2 = np.array([177, 179, 180, 188, 177, 172, 171, 184, 180])\n",
    "gr3 = np.array([172, 173, 169, 177, 166, 180, 178, 177, 172, 166, 170])\n",
    "\n",
    "k = 3\n",
    "n = len(gr1) + len(gr2) + len(gr3)\n",
    "alpha = 0.05"
   ]
  },
  {
   "cell_type": "code",
   "execution_count": 11,
   "id": "31c4d64f",
   "metadata": {},
   "outputs": [
    {
     "data": {
      "text/plain": [
       "(179.125, 178.66666666666666, 172.72727272727272)"
      ]
     },
     "execution_count": 11,
     "metadata": {},
     "output_type": "execute_result"
    }
   ],
   "source": [
    "gr1_mean = np.mean(gr1)\n",
    "gr2_mean = np.mean(gr2)\n",
    "gr3_mean = np.mean(gr3)\n",
    "\n",
    "gr1_mean, gr2_mean, gr3_mean"
   ]
  },
  {
   "cell_type": "code",
   "execution_count": 50,
   "id": "8efb9dcd",
   "metadata": {},
   "outputs": [
    {
     "data": {
      "text/plain": [
       "(array([173, 175, 180, 178, 177, 185, 183, 182, 177, 179, 180, 188, 177,\n",
       "        172, 171, 184, 180, 172, 173, 169, 177, 166, 180, 178, 177, 172,\n",
       "        166, 170]),\n",
       " 176.46428571428572)"
      ]
     },
     "execution_count": 50,
     "metadata": {},
     "output_type": "execute_result"
    }
   ],
   "source": [
    "general_gr = np.concatenate([gr1, gr2, gr3])\n",
    "general_mean = np.mean(general_gr)\n",
    "general_gr, general_mean"
   ]
  },
  {
   "cell_type": "code",
   "execution_count": 51,
   "id": "a164d2a4",
   "metadata": {},
   "outputs": [
    {
     "data": {
      "text/plain": [
       "830.9642857142854"
      ]
     },
     "execution_count": 51,
     "metadata": {},
     "output_type": "execute_result"
    }
   ],
   "source": [
    "# Сумма квадратов отклонений наблюдений от общего среднего\n",
    "# как я понял для проверки\n",
    "s_g = np.sum((general_gr - general_mean) ** 2)\n",
    "s_g"
   ]
  },
  {
   "cell_type": "code",
   "execution_count": 52,
   "id": "88923d4e",
   "metadata": {},
   "outputs": [
    {
     "data": {
      "text/plain": [
       "253.9074675324678"
      ]
     },
     "execution_count": 52,
     "metadata": {},
     "output_type": "execute_result"
    }
   ],
   "source": [
    "# Сумма квадратов отклонений средних групповых значений от общего среднего\n",
    "\n",
    "s_f = np.sum((gr1_mean - general_mean) ** 2 * len(gr1)) \\\n",
    "      + np.sum((gr2_mean - general_mean) ** 2 * len(gr2)) \\\n",
    "      + np.sum((gr3_mean - general_mean) ** 2 * len(gr3))\n",
    "s_f"
   ]
  },
  {
   "cell_type": "code",
   "execution_count": 53,
   "id": "f58da0e5",
   "metadata": {},
   "outputs": [
    {
     "data": {
      "text/plain": [
       "577.0568181818182"
      ]
     },
     "execution_count": 53,
     "metadata": {},
     "output_type": "execute_result"
    }
   ],
   "source": [
    "# Остаточная сумма квадратов отклонений\n",
    "s_ost = np.sum((gr1 - gr1_mean) ** 2) \\\n",
    "        + np.sum((gr2 - gr2_mean) ** 2) \\\n",
    "        + np.sum((gr3 - gr3_mean) ** 2)\n",
    "s_ost "
   ]
  },
  {
   "cell_type": "code",
   "execution_count": 54,
   "id": "fc9aa4d6",
   "metadata": {},
   "outputs": [
    {
     "name": "stdout",
     "output_type": "stream",
     "text": [
      "0\n"
     ]
    }
   ],
   "source": [
    "# Сосбтвенно сама проверка, привожу к целым для округления и упрощения\n",
    "print(int(s_g) - int(s_f) - int(s_ost))"
   ]
  },
  {
   "cell_type": "code",
   "execution_count": 55,
   "id": "7a3c343f",
   "metadata": {},
   "outputs": [
    {
     "data": {
      "text/plain": [
       "126.9537337662339"
      ]
     },
     "execution_count": 55,
     "metadata": {},
     "output_type": "execute_result"
    }
   ],
   "source": [
    "d_f = s_f / (k - 1)\n",
    "d_f"
   ]
  },
  {
   "cell_type": "code",
   "execution_count": 56,
   "id": "56da2011",
   "metadata": {},
   "outputs": [
    {
     "data": {
      "text/plain": [
       "23.08227272727273"
      ]
     },
     "execution_count": 56,
     "metadata": {},
     "output_type": "execute_result"
    }
   ],
   "source": [
    "d_ost = s_ost / (n - k)\n",
    "d_ost"
   ]
  },
  {
   "cell_type": "code",
   "execution_count": 57,
   "id": "09d0708c",
   "metadata": {},
   "outputs": [
    {
     "data": {
      "text/plain": [
       "5.500053450812598"
      ]
     },
     "execution_count": 57,
     "metadata": {},
     "output_type": "execute_result"
    }
   ],
   "source": [
    "f_n = d_f / d_ost\n",
    "f_n"
   ]
  },
  {
   "cell_type": "code",
   "execution_count": 58,
   "id": "4d7e21d0",
   "metadata": {},
   "outputs": [
    {
     "data": {
      "text/plain": [
       "F_onewayResult(statistic=5.500053450812596, pvalue=0.010482206918698693)"
      ]
     },
     "execution_count": 58,
     "metadata": {},
     "output_type": "execute_result"
    }
   ],
   "source": [
    "f = stats.f_oneway(gr1, gr2, gr3)\n",
    "f"
   ]
  },
  {
   "cell_type": "code",
   "execution_count": 62,
   "id": "8cbc7ef3",
   "metadata": {},
   "outputs": [
    {
     "data": {
      "text/plain": [
       "3.3851899614491683"
      ]
     },
     "execution_count": 62,
     "metadata": {},
     "output_type": "execute_result"
    }
   ],
   "source": [
    "# табличное значение для k1=2, k2=25 равно 3.38\n",
    "f_crit = stats.f.ppf(1 - alpha, k - 1, n - k)\n",
    "f_crit"
   ]
  },
  {
   "cell_type": "markdown",
   "id": "165e28cd",
   "metadata": {},
   "source": [
    "#### Вывод\n",
    "Отвергаем нулевую гипотезу, т. к. p-value < alpha, а также F наблюдаемое > F критическое.\n",
    "\n",
    "Различия есть и они статистически значимы"
   ]
  },
  {
   "cell_type": "code",
   "execution_count": null,
   "id": "a07cf417",
   "metadata": {},
   "outputs": [],
   "source": []
  }
 ],
 "metadata": {
  "kernelspec": {
   "display_name": "Python 3 (ipykernel)",
   "language": "python",
   "name": "python3"
  },
  "language_info": {
   "codemirror_mode": {
    "name": "ipython",
    "version": 3
   },
   "file_extension": ".py",
   "mimetype": "text/x-python",
   "name": "python",
   "nbconvert_exporter": "python",
   "pygments_lexer": "ipython3",
   "version": "3.11.1"
  }
 },
 "nbformat": 4,
 "nbformat_minor": 5
}
