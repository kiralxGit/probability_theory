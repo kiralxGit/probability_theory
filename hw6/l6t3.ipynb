{
 "cells": [
  {
   "cell_type": "markdown",
   "id": "f538b32a",
   "metadata": {},
   "source": [
    "### Задача 3\n",
    "Рост дочерей 175, 167, 154, 174, 178, 148, 160, 167, 169, 170\n",
    "\n",
    "Рост матерей  178, 165, 165, 173, 168, 155, 160, 164, 178, 175\n",
    "\n",
    "Используя эти данные построить 95% доверительный интервал для разности среднего роста родителей и детей."
   ]
  },
  {
   "cell_type": "code",
   "execution_count": 1,
   "id": "400c5329",
   "metadata": {},
   "outputs": [],
   "source": [
    "import numpy as np\n",
    "import scipy.stats as stats"
   ]
  },
  {
   "cell_type": "code",
   "execution_count": 2,
   "id": "9254fe29",
   "metadata": {},
   "outputs": [
    {
     "data": {
      "text/plain": [
       "(-10.068418034506857, 6.268418034506846)"
      ]
     },
     "execution_count": 2,
     "metadata": {},
     "output_type": "execute_result"
    }
   ],
   "source": [
    "arr_d = (175, 167, 154, 174, 178, 148, 160, 167, 169, 170)\n",
    "arr_m = (178, 165, 165, 173, 168, 155, 160, 164, 178, 175)\n",
    "\n",
    "α = 0.05\n",
    "\n",
    "m_d = np.mean(arr_d)\n",
    "m_m = np.mean(arr_m)\n",
    "\n",
    "Δ = m_d - m_m\n",
    "\n",
    "n_d = len(arr_d)\n",
    "n_m = len(arr_m)\n",
    "\n",
    "d_d = np.var(arr_d, ddof=1)\n",
    "d_m = np.var(arr_m, ddof=1)\n",
    "d = (d_d + d_m) / 2\n",
    "\n",
    "s = np.sqrt(d / n_d + d / n_m)\n",
    "\n",
    "df = (n_d - 1) + (n_m - 1)\n",
    "\n",
    "t = stats.t.ppf(1 - α / 2, df)\n",
    "\n",
    "z1 = Δ - t * s\n",
    "z2 = Δ + t * s\n",
    "\n",
    "z1, z2"
   ]
  },
  {
   "cell_type": "markdown",
   "id": "a346f570",
   "metadata": {},
   "source": [
    "**Ответ:** (-10.07, 6.27)"
   ]
  }
 ],
 "metadata": {
  "kernelspec": {
   "display_name": "Python 3 (ipykernel)",
   "language": "python",
   "name": "python3"
  },
  "language_info": {
   "codemirror_mode": {
    "name": "ipython",
    "version": 3
   },
   "file_extension": ".py",
   "mimetype": "text/x-python",
   "name": "python",
   "nbconvert_exporter": "python",
   "pygments_lexer": "ipython3",
   "version": "3.11.1"
  }
 },
 "nbformat": 4,
 "nbformat_minor": 5
}
