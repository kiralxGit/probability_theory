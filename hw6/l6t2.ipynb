{
 "cells": [
  {
   "cell_type": "markdown",
   "id": "0ed699d7",
   "metadata": {},
   "source": [
    "### Задача 2\n",
    "В результате 10 независимых измерений некоторой величины X, выполненных с одинаковой точностью, получены опытные данные:\n",
    "\n",
    "6.9, 6.1, 6.2, 6.8, 7.5, 6.3, 6.4, 6.9, 6.7, 6.1\n",
    "\n",
    "Предполагая, что результаты измерений подчинены нормальному закону распределения вероятностей, оценить истинное значение величины X при помощи доверительного интервала, покрывающего это значение с доверительной вероятностью 0,95."
   ]
  },
  {
   "cell_type": "code",
   "execution_count": 2,
   "id": "48ac6638",
   "metadata": {},
   "outputs": [],
   "source": [
    "import numpy as np\n",
    "from scipy import stats"
   ]
  },
  {
   "cell_type": "code",
   "execution_count": 4,
   "id": "d92fd216",
   "metadata": {},
   "outputs": [
    {
     "data": {
      "text/plain": [
       "(2.2621571627409915, 6.267515851415713, 6.912484148584288)"
      ]
     },
     "execution_count": 4,
     "metadata": {},
     "output_type": "execute_result"
    }
   ],
   "source": [
    "arr = (6.9, 6.1, 6.2, 6.8, 7.5, 6.3, 6.4, 6.9, 6.7, 6.1)\n",
    "\n",
    "\n",
    "σ = np.std(arr, ddof=1)\n",
    "α = 0.05\n",
    "m = np.mean(arr)\n",
    "n = len(arr)\n",
    "\n",
    "df = n - 1\n",
    "\n",
    "t = stats.t.ppf(1 - α / 2, df)\n",
    "\n",
    "z1 = m - t * (σ / np.sqrt(n))\n",
    "z2 = m + t * (σ / np.sqrt(n))\n",
    "t, z1, z2\n"
   ]
  },
  {
   "cell_type": "markdown",
   "id": "b7918939",
   "metadata": {},
   "source": [
    "**Ответ:** (6.27, 6.91)"
   ]
  }
 ],
 "metadata": {
  "kernelspec": {
   "display_name": "Python 3 (ipykernel)",
   "language": "python",
   "name": "python3"
  },
  "language_info": {
   "codemirror_mode": {
    "name": "ipython",
    "version": 3
   },
   "file_extension": ".py",
   "mimetype": "text/x-python",
   "name": "python",
   "nbconvert_exporter": "python",
   "pygments_lexer": "ipython3",
   "version": "3.11.1"
  }
 },
 "nbformat": 4,
 "nbformat_minor": 5
}
