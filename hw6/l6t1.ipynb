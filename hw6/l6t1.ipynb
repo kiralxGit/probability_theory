{
 "cells": [
  {
   "cell_type": "markdown",
   "id": "49babd44",
   "metadata": {},
   "source": [
    "### Задача 1\n",
    "Известно, что генеральная совокупность распределена нормально со средним квадратическим отклонением, равным 16.\n",
    "\n",
    "Найти доверительный интервал для оценки математического ожидания a с надежностью 0.95, если выборочная средняя M = 80, а объем выборки n = 256."
   ]
  },
  {
   "cell_type": "code",
   "execution_count": 1,
   "id": "da56bccd",
   "metadata": {},
   "outputs": [],
   "source": [
    "from math import sqrt"
   ]
  },
  {
   "cell_type": "code",
   "execution_count": 2,
   "id": "9eed8265",
   "metadata": {},
   "outputs": [
    {
     "data": {
      "text/plain": [
       "(78.04, 81.96)"
      ]
     },
     "execution_count": 2,
     "metadata": {},
     "output_type": "execute_result"
    }
   ],
   "source": [
    "σ = 16\n",
    "α = 0.05\n",
    "m = 80\n",
    "n = 256\n",
    "z = 1.96\n",
    "\n",
    "z1 = m - z * (σ / sqrt(n))\n",
    "z2 = m + z * (σ / sqrt(n))\n",
    "z1, z2"
   ]
  },
  {
   "cell_type": "markdown",
   "id": "99653e6f",
   "metadata": {},
   "source": [
    "**Ответ:** (78.04, 81.96)"
   ]
  }
 ],
 "metadata": {
  "kernelspec": {
   "display_name": "Python 3 (ipykernel)",
   "language": "python",
   "name": "python3"
  },
  "language_info": {
   "codemirror_mode": {
    "name": "ipython",
    "version": 3
   },
   "file_extension": ".py",
   "mimetype": "text/x-python",
   "name": "python",
   "nbconvert_exporter": "python",
   "pygments_lexer": "ipython3",
   "version": "3.11.1"
  }
 },
 "nbformat": 4,
 "nbformat_minor": 5
}
