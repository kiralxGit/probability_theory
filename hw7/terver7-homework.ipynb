{
 "cells": [
  {
   "cell_type": "code",
   "execution_count": 1,
   "id": "58213360",
   "metadata": {},
   "outputs": [],
   "source": [
    "import numpy as np\n",
    "import scipy.stats as stats"
   ]
  },
  {
   "cell_type": "markdown",
   "id": "a1b64689",
   "metadata": {},
   "source": [
    "## Задание 1"
   ]
  },
  {
   "cell_type": "raw",
   "id": "8304e169",
   "metadata": {},
   "source": [
    "Даны две  независимые выборки.\n",
    "Не соблюдается условие нормальности\n",
    "x1 380,420, 290\n",
    "y1 140,360,200,900\n",
    "Сделайте вывод по результатам, полученным с помощью функции"
   ]
  },
  {
   "cell_type": "markdown",
   "id": "5a328b22",
   "metadata": {},
   "source": [
    "x1 = np.array([380,420, 290])\n",
    "\n",
    "y1 = np.array([140,360,200,900])\n",
    "\n",
    "stats.mannwhitneyu(x1, y1)\n",
    "\n",
    "#### MannwhitneyuResult(statistic=8.0, pvalue=0.6285714285714286)\n",
    "\n",
    "#### При α = 0,05 нулевая гипотеза не отвергается - различия не значимы"
   ]
  },
  {
   "cell_type": "markdown",
   "id": "75ab0ce6",
   "metadata": {},
   "source": [
    "## Задание 2"
   ]
  },
  {
   "cell_type": "raw",
   "id": "3fbde33e",
   "metadata": {},
   "source": [
    "Исследовалось влияние препарата на уровень давления пациентов. Сначала измерялось давление до приема препарата, потом через 10 минут и через 30 минут. Есть ли статистически значимые различия?\n",
    "1е измерение до приема препарата: 150, 160, 165, 145, 155\n",
    "2е измерение через 10 минут: 140, 155, 150,  130, 135\n",
    "3е измерение через 30 минут: 130, 130, 120, 130, 125"
   ]
  },
  {
   "cell_type": "markdown",
   "id": "82999c61",
   "metadata": {},
   "source": [
    "a= np.array([150, 160, 165, 145, 155])\n",
    "\n",
    "b= np.array([140, 155, 150,  130, 135])\n",
    "\n",
    "c=np.array([130, 130, 120, 130, 125])\n",
    "\n",
    "stats.friedmanchisquare(a, b, c)\n",
    "\n",
    "#### FriedmanchisquareResult(statistic=9.578947368421062, pvalue=0.00831683351100441)\n",
    "#### При α = 0,05 нулевая гипотеза отвергается - различия значимы "
   ]
  },
  {
   "cell_type": "markdown",
   "id": "ef25e419",
   "metadata": {},
   "source": [
    "## Задание 3"
   ]
  },
  {
   "cell_type": "raw",
   "id": "67ca0ad5",
   "metadata": {},
   "source": [
    "Сравните 1 и 2 е измерения, предполагая, что 3го измерения через 30 минут не было."
   ]
  },
  {
   "cell_type": "markdown",
   "id": "78a3ca27",
   "metadata": {},
   "source": [
    "a= np.array([150, 160, 165, 145, 155])\n",
    "\n",
    "b= np.array([140, 155, 150, 130, 135])\n",
    "\n",
    "stats.wilcoxon(a, b)\n",
    "\n",
    "#### WilcoxonResult(statistic=0.0, pvalue=0.0625)\n",
    "#### При α = 0,05 нулевая гипотеза не отвергается - различия не значимы"
   ]
  },
  {
   "cell_type": "markdown",
   "id": "bcf17cef",
   "metadata": {},
   "source": [
    "## Задание 4"
   ]
  },
  {
   "cell_type": "raw",
   "id": "d4a26a07",
   "metadata": {},
   "source": [
    "Даны 3 группы  учеников плавания.\n",
    "В 1 группе время на дистанцию 50 м составляют: 56, 60, 62, 55, 71, 67, 59, 58, 64, 67\n",
    "Вторая группа : 57, 58, 69, 48, 72, 70, 68, 71, 50, 53\n",
    "Третья группа: 57, 67, 49, 48, 47, 55, 66, 51, 54"
   ]
  },
  {
   "cell_type": "markdown",
   "id": "61dc46a1",
   "metadata": {},
   "source": [
    "gr1 = np.array([56, 60, 62, 55, 71, 67, 59, 58, 64, 67])\n",
    "\n",
    "gr2 = np.array([57, 58, 69, 48, 72, 70, 68, 71, 50, 53])\n",
    "\n",
    "gr3 =np.array([57, 67, 49, 48, 47, 55, 66, 51, 54])\n",
    "\n",
    "stats.kruskal(gr1, gr2, gr3)\n",
    "\n",
    "#### KruskalResult(statistic=5.465564058257224, pvalue=0.06503809985904942)\n",
    "#### При α = 0,05 нулевая гипотеза не отвергается - различия не значимы"
   ]
  },
  {
   "cell_type": "markdown",
   "id": "4a29e35f",
   "metadata": {},
   "source": [
    "## Задание 5"
   ]
  },
  {
   "cell_type": "raw",
   "id": "0e205be4",
   "metadata": {},
   "source": [
    "Заявляется, что партия изготавливается со средним арифметическим 2,5 см.\n",
    "Проверить данную гипотезу, если известно, что размеры изделий подчинены нормальному закону распределения.\n",
    "Объем выборки 10, уровень статистической значимости 5%\n",
    "μ_0 = 2.5\n",
    "n = 10 \n",
    "α = 0.05\n",
    "([2.51, 2.35, 2.74, 2.56, 2.40, 2.36, 2.65, 2.7, 2.67, 2.34])\n",
    "\n",
    "\n",
    "𝐻_(0 ): μ = μ_0 - отличия не значимы\n",
    "𝐻_(1 ): μ ≠ μ_0 - отличия значимы\n",
    "\n",
    "df = n - 1\n",
    "μ = 2.53\n",
    "t = 2.26\n",
    "\n",
    "z1 = 2.42\n",
    "z2 = 2.64"
   ]
  },
  {
   "cell_type": "markdown",
   "id": "2f2a854d",
   "metadata": {},
   "source": [
    "#### Нулевая гипотеза не отвергается. Различия не значимы."
   ]
  },
  {
   "cell_type": "code",
   "execution_count": 56,
   "id": "a72080f7",
   "metadata": {},
   "outputs": [
    {
     "data": {
      "text/plain": [
       "(0.1572542173961923,\n",
       " 2.5279999999999996,\n",
       " 2.2621571627409915,\n",
       " 2.4155071095954663,\n",
       " 2.640492890404533)"
      ]
     },
     "execution_count": 56,
     "metadata": {},
     "output_type": "execute_result"
    }
   ],
   "source": [
    "arr = np.array([2.51, 2.35, 2.74, 2.56, 2.40, 2.36, 2.65, 2.7, 2.67, 2.34])\n",
    "\n",
    "\n",
    "σ = np.std(arr, ddof=1)\n",
    "α = 0.05\n",
    "μ_0 = 2.5\n",
    "μ = np.mean(arr)\n",
    "n = len(arr)\n",
    "\n",
    "df = n - 1\n",
    "\n",
    "t = stats.t.ppf(1 - α / 2, df)\n",
    "\n",
    "z1 = μ - t * (σ / np.sqrt(n))\n",
    "z2 = μ + t * (σ / np.sqrt(n))\n",
    "σ, μ, t, z1, z2"
   ]
  }
 ],
 "metadata": {
  "kernelspec": {
   "display_name": "Python 3 (ipykernel)",
   "language": "python",
   "name": "python3"
  },
  "language_info": {
   "codemirror_mode": {
    "name": "ipython",
    "version": 3
   },
   "file_extension": ".py",
   "mimetype": "text/x-python",
   "name": "python",
   "nbconvert_exporter": "python",
   "pygments_lexer": "ipython3",
   "version": "3.11.1"
  }
 },
 "nbformat": 4,
 "nbformat_minor": 5
}
